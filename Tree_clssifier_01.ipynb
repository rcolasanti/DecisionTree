{
 "cells": [
  {
   "cell_type": "code",
   "execution_count": 44,
   "metadata": {},
   "outputs": [],
   "source": [
    "from pprint import pprint\n",
    "import matplotlib.pyplot as plt\n",
    "import math\n",
    "import sys\n",
    "%matplotlib inline"
   ]
  },
  {
   "cell_type": "code",
   "execution_count": 84,
   "metadata": {},
   "outputs": [],
   "source": [
    "dataset=[['from','country','faq',\"visits\",'signed up'],\n",
    "        ['slashdot','USA','yes',18,'None'],\n",
    "        ['google','France','yes',23,'Premium'],\n",
    "        ['digg','USA','yes',24,'Basic'],\n",
    "        ['kiwitobes','France','yes',23,'Basic'],\n",
    "        ['google','UK','no',21,'Premium'],\n",
    "        ['(direct)','New Zealand','no',12,'None'],\n",
    "        ['(direct)','UK','no',21,'Basic'],\n",
    "        ['google','USA','no',24,'Premium'],\n",
    "        ['slashdot','France','yes',19,'None'],\n",
    "        ['digg','USA','no',18,'None'],\n",
    "        ['google','UK','no',18,'None'],\n",
    "        ['kiwitobes','UK','no',19,'None'],\n",
    "        ['digg','New Zealand','yes',12,'Basic'],\n",
    "        ['slashdot','UK','no',21,'None'],\n",
    "        ['google','UK','yes',18,'Basic'],\n",
    "        ['kiwitobes','France','yes',19,'Basic']]"
   ]
  },
  {
   "cell_type": "code",
   "execution_count": 95,
   "metadata": {},
   "outputs": [],
   "source": [
    "class TcNumeric:\n",
    "\n",
    "    def __init__(self,lable):\n",
    "        self.label = lable\n",
    "        self.n = 0\n",
    "        self.old_m = 0\n",
    "        self.new_m = 0\n",
    "        self.old_s = 0\n",
    "        self.new_s = 0\n",
    "        self.min_val = sys.float_info.max\n",
    "        self.max_val = sys.float_info.min\n",
    "\n",
    "    def clear(self):\n",
    "        self.n = 0\n",
    "\n",
    "    def add_attribute(self, x):\n",
    "        self.n += 1\n",
    "        if self.max_val< x:self.max_val=x\n",
    "        if self.min_val> x:self.min_val=x\n",
    "        if self.n == 1:\n",
    "            self.old_m = self.new_m = x\n",
    "            self.old_s = 0\n",
    "        else:\n",
    "            self.new_m = self.old_m + (x - self.old_m) / self.n\n",
    "            self.new_s = self.old_s + (x - self.old_m) * (x - self.new_m)\n",
    "\n",
    "            self.old_m = self.new_m\n",
    "            self.old_s = self.new_s\n",
    "\n",
    "    def mean(self):\n",
    "        return self.new_m if self.n else 0.0\n",
    "\n",
    "    def variance(self):\n",
    "        return self.new_s / (self.n - 1) if self.n > 1 else 0.0\n",
    "\n",
    "    def standard_deviation(self):\n",
    "        return math.sqrt(self.variance())\n",
    "    \n",
    "    def total(self):\n",
    "        return self.n\n",
    "    \n",
    "    def type(self):\n",
    "        return\"Numeric\"\n",
    "        \n",
    "    def max(self):\n",
    "        return self.max_val\n",
    "    \n",
    "    def min(self):\n",
    "        return self.min_val\n",
    "    \n",
    "    def get_label(self):\n",
    "        return(self.label)"
   ]
  },
  {
   "cell_type": "code",
   "execution_count": 93,
   "metadata": {},
   "outputs": [],
   "source": [
    "class TcString:\n",
    "    def __init__(self,lable):\n",
    "        self.label = lable\n",
    "        self.attributes ={}\n",
    "        \n",
    "        \n",
    "    def add_attribute(self, attribute):\n",
    "        if attribute not in self.attributes:\n",
    "            self.attributes[attribute]=0\n",
    "        self.attributes[attribute]+=1\n",
    "        \n",
    "    def get_attribute_keys(self):\n",
    "        return list(self.attributes.keys())\n",
    "    \n",
    "    def get_attributes(self):\n",
    "        return self.attributes\n",
    "        \n",
    "    def plot_distribution(self):       \n",
    "        names = list(self.attributes.keys())\n",
    "        values = self.attributes.values()\n",
    "        plt.bar(range(len(data)),values,tick_label=names)\n",
    "        plt.show()\n",
    "        \n",
    "    def get_type(self):\n",
    "        return\"String\"\n",
    "    \n",
    "    def get_label(self):\n",
    "        return(self.label)"
   ]
  },
  {
   "cell_type": "code",
   "execution_count": 94,
   "metadata": {},
   "outputs": [
    {
     "name": "stdout",
     "output_type": "stream",
     "text": [
      "from\n",
      "['kiwitobes', 'slashdot', '(direct)', 'google', 'digg']\n",
      "String\n"
     ]
    }
   ],
   "source": [
    "test_str =TcString(dataset[0][0])\n",
    "for i in range(1,len(dataset)):\n",
    "    test_str.add_attribute(dataset[i][0])\n",
    "\n",
    "print(test_str.get_label())\n",
    "print(test_str.get_attribute_keys())\n",
    "print(test_str.get_type())"
   ]
  },
  {
   "cell_type": "code",
   "execution_count": 73,
   "metadata": {},
   "outputs": [
    {
     "data": {
      "image/png": "[encoded data removed]",
      "text/plain": [
       "<Figure size 432x288 with 1 Axes>"
      ]
     },
     "metadata": {},
     "output_type": "display_data"
    }
   ],
   "source": [
    "test_str.plot_distribution()"
   ]
  },
  {
   "cell_type": "code",
   "execution_count": 98,
   "metadata": {},
   "outputs": [
    {
     "name": "stdout",
     "output_type": "stream",
     "text": [
      "visits\n",
      "19.375 12.916666666666666 3.593976442141304 16\n",
      "Numeric\n",
      "24\n",
      "12\n"
     ]
    }
   ],
   "source": [
    "test_num =TcNumeric(dataset[0][3])\n",
    "for i in range(1,len(dataset)):\n",
    "    test_num.add_attribute(dataset[i][3])\n",
    "    \n",
    "print(test_num.get_label())\n",
    "print(test_num.mean(),test_num.variance(),test_num.standard_deviation(),test_num.total())\n",
    "print(test_num.type())\n",
    "print(test_num.max())\n",
    "print(test_num.min())"
   ]
  },
  {
   "cell_type": "code",
   "execution_count": null,
   "metadata": {},
   "outputs": [],
   "source": []
  }
 ],
 "metadata": {
  "kernelspec": {
   "display_name": "Python 3",
   "language": "python",
   "name": "python3"
  },
  "language_info": {
   "codemirror_mode": {
    "name": "ipython",
    "version": 3
   },
   "file_extension": ".py",
   "mimetype": "text/x-python",
   "name": "python",
   "nbconvert_exporter": "python",
   "pygments_lexer": "ipython3",
   "version": "3.5.2"
  }
 },
 "nbformat": 4,
 "nbformat_minor": 2
}
