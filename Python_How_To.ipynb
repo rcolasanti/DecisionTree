{
 "cells": [
  {
   "cell_type": "code",
   "execution_count": 4,
   "metadata": {},
   "outputs": [],
   "source": [
    "from pprint import pprint"
   ]
  },
  {
   "cell_type": "code",
   "execution_count": 12,
   "metadata": {},
   "outputs": [],
   "source": [
    "dataset = [line.rstrip().split('\\t') for line in open(\"Data/addresslist.txt\").readlines()]"
   ]
  },
  {
   "cell_type": "code",
   "execution_count": 13,
   "metadata": {},
   "outputs": [
    {
     "name": "stdout",
     "output_type": "stream",
     "text": [
      "[['6 Washington'],\n",
      " ['21 Manassas'],\n",
      " ['280 Pearl'],\n",
      " ['55 Ellery'],\n",
      " ['50 Follen'],\n",
      " ['51 Granite'],\n",
      " ['992 Memorial'],\n",
      " ['83 Trowbridge'],\n",
      " ['1 Dana'],\n",
      " ['45 Regent'],\n",
      " ['90 Alpine'],\n",
      " ['21 Francis'],\n",
      " ['112 Avon Hill'],\n",
      " ['9 Bellevue'],\n",
      " ['4 Blanchard Rd'],\n",
      " ['34 Shea'],\n",
      " ['5 Fountain'],\n",
      " ['14 Marcella'],\n",
      " ['39 Saint Saveur'],\n",
      " ['35 Pemberton'],\n",
      " ['46 Shepard'],\n",
      " ['31 Market'],\n",
      " ['99 Howard'],\n",
      " ['88 Pearl'],\n",
      " ['208 Western'],\n",
      " ['285 Windsor'],\n",
      " ['26 Cambridgepark'],\n",
      " ['211 Erie'],\n",
      " ['129 Franklin'],\n",
      " ['27 Gurney'],\n",
      " ['149 Prospect'],\n",
      " ['27 Linnaean'],\n",
      " ['20 Dudley'],\n",
      " ['60 Otis St'],\n",
      " ['130 Mount Auburn St'],\n",
      " ['2 Michael Way'],\n",
      " ['263 Columbia St'],\n",
      " ['6 Hurlbut St'],\n",
      " ['199 Harvard St'],\n",
      " ['168 River St'],\n",
      " ['400 Washington St'],\n",
      " ['12 Traill St'],\n",
      " ['74 Field St'],\n",
      " ['21 Walden Square Rd'],\n",
      " ['7 Wendell St'],\n",
      " ['15 Normandy Ave'],\n",
      " ['6 Gibson Ter'],\n",
      " ['94 Pine St'],\n",
      " ['23 Magee St'],\n",
      " ['175 Richdale Ave'],\n",
      " ['168 River St'],\n",
      " ['246 Brattle St']]\n"
     ]
    }
   ],
   "source": [
    "pprint(dataset)"
   ]
  },
  {
   "cell_type": "code",
   "execution_count": null,
   "metadata": {},
   "outputs": [],
   "source": []
  }
 ],
 "metadata": {
  "kernelspec": {
   "display_name": "Python 3",
   "language": "python",
   "name": "python3"
  },
  "language_info": {
   "codemirror_mode": {
    "name": "ipython",
    "version": 3
   },
   "file_extension": ".py",
   "mimetype": "text/x-python",
   "name": "python",
   "nbconvert_exporter": "python",
   "pygments_lexer": "ipython3",
   "version": "3.5.2"
  }
 },
 "nbformat": 4,
 "nbformat_minor": 2
}
